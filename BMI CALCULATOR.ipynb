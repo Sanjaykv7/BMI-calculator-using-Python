{
 "cells": [
  {
   "cell_type": "code",
   "execution_count": 24,
   "id": "2ebf56da-00c6-49f7-b916-98c25b0b5cc3",
   "metadata": {},
   "outputs": [
    {
     "name": "stdin",
     "output_type": "stream",
     "text": [
      "Enter your name: san\n",
      "Enter your weight in pounds: 220\n",
      "Enter your height in inches: 74\n"
     ]
    },
    {
     "name": "stdout",
     "output_type": "stream",
     "text": [
      "28.243243243243242\n",
      "sanYou are overweight\n"
     ]
    }
   ],
   "source": [
    "NAME= input('Enter your name:')\n",
    "WEIGHT=int(input('Enter your weight in pounds:'))\n",
    "HEIGHT=int(input('Enter your height in inches:'))\n",
    "\n",
    "BMI= (WEIGHT*703)/(HEIGHT*HEIGHT)\n",
    "print(BMI)\n",
    "\n",
    "if BMI>0:\n",
    "    if(BMI<18.5):\n",
    "        print( NAME+ ',You are underweight')\n",
    "    elif(BMI<24.9):\n",
    "        print( NAME+ ',You are normal weight')\n",
    "    elif(BMI<29.9):\n",
    "        print( NAME+ ',You are overweight')\n",
    "    elif(BMI<34.9):\n",
    "        print( NAME+ ',You are obese')\n",
    "    elif(BMI<39.9):\n",
    "        print( NAME+ ',You are obese')\n",
    "    else:\n",
    "        print( NAME+ ',you are morbidly obese')\n",
    "else:\n",
    "    print('Enter valid input')"
   ]
  },
  {
   "cell_type": "code",
   "execution_count": null,
   "id": "45193b18-6adb-4d93-93da-9933da9b1cf6",
   "metadata": {},
   "outputs": [],
   "source": []
  },
  {
   "cell_type": "code",
   "execution_count": null,
   "id": "d1d38c6b-9535-4675-a72c-805c04c4009a",
   "metadata": {},
   "outputs": [],
   "source": []
  },
  {
   "cell_type": "code",
   "execution_count": null,
   "id": "9ef4549d-84e0-4724-9685-310b0360b2e0",
   "metadata": {},
   "outputs": [],
   "source": []
  },
  {
   "cell_type": "code",
   "execution_count": null,
   "id": "9eab4bac-b7cc-4165-8002-3b2211a26c2a",
   "metadata": {},
   "outputs": [],
   "source": []
  },
  {
   "cell_type": "code",
   "execution_count": null,
   "id": "46d98f5f-1b66-4486-9c78-3cc6ef1d1d5f",
   "metadata": {},
   "outputs": [],
   "source": []
  },
  {
   "cell_type": "code",
   "execution_count": null,
   "id": "54b9c547-13a8-4a63-a1b7-80f520bf731f",
   "metadata": {},
   "outputs": [],
   "source": []
  },
  {
   "cell_type": "code",
   "execution_count": null,
   "id": "357df952-10bc-46d8-9431-e809a3428b1a",
   "metadata": {},
   "outputs": [],
   "source": []
  },
  {
   "cell_type": "code",
   "execution_count": null,
   "id": "2762b240-2214-4552-9d51-c728f2544374",
   "metadata": {},
   "outputs": [],
   "source": []
  }
 ],
 "metadata": {
  "kernelspec": {
   "display_name": "Python 3 (ipykernel)",
   "language": "python",
   "name": "python3"
  },
  "language_info": {
   "codemirror_mode": {
    "name": "ipython",
    "version": 3
   },
   "file_extension": ".py",
   "mimetype": "text/x-python",
   "name": "python",
   "nbconvert_exporter": "python",
   "pygments_lexer": "ipython3",
   "version": "3.12.7"
  }
 },
 "nbformat": 4,
 "nbformat_minor": 5
}
